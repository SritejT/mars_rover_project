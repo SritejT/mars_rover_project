{
 "cells": [
  {
   "cell_type": "code",
   "execution_count": 274,
   "id": "81496b20",
   "metadata": {
    "scrolled": true
   },
   "outputs": [
    {
     "name": "stdout",
     "output_type": "stream",
     "text": [
      "Final velocity: 7.540203032654785\n",
      "Max deceleration: -96.27455774252067\n"
     ]
    }
   ],
   "source": [
    "import math\n",
    "\n",
    "rocket_fuel_mass = 600\n",
    "rover_mass = 1.36 * (10 ** 3)\n",
    "mars_mass = 6.39 * (10 ** 23)\n",
    "mars_radius = 3390000\n",
    "velocity = 4650\n",
    "altitude = 1500000\n",
    "vertical_distance = 1500000\n",
    "horizontal_distance = 0\n",
    "G = 6.67 * (10 ** -11)\n",
    "rover_angle = 54\n",
    "deviation_angle = 0\n",
    "altitude_list = []\n",
    "velocity_list = []\n",
    "acceleration_list = [] \n",
    "gravity_list = []\n",
    "drag_list = []\n",
    "\n",
    "def frame(surface_area, rocket=False):\n",
    "    \n",
    "    global velocity\n",
    "    global altitude\n",
    "    global rover_angle\n",
    "    global deviation_angle\n",
    "    global vertical_distance\n",
    "    global horizontal_distance\n",
    "    global rocket_fuel_mass\n",
    "    \n",
    "    last_velocity = velocity\n",
    "    total_mass = rover_mass + rocket_fuel_mass\n",
    "    \n",
    "    gravitational_force = (G * total_mass * mars_mass) / ((altitude + mars_radius) ** 2)\n",
    "    gravitational_acceleration = gravitational_force / total_mass\n",
    "\n",
    "    drag = 0.01 * surface_area * (math.e ** (-altitude / 11100)) * (velocity ** 2)\n",
    "   \n",
    "    velocity -= drag / total_mass\n",
    "    \n",
    "    if rocket == True and rocket_fuel_mass > 0:\n",
    "        \n",
    "        velocity -= 6000 / total_mass\n",
    "        rocket_fuel_mass -= 2 * (10 ** -4) * 6000\n",
    "    \n",
    "    vertical_velocity = velocity * math.cos(math.radians(rover_angle)) + gravitational_acceleration * math.cos(math.radians(deviation_angle))\n",
    "    horizontal_velocity = velocity * math.sin(math.radians(rover_angle)) - gravitational_acceleration * math.sin(math.radians(deviation_angle))\n",
    "    vertical_distance -= vertical_velocity\n",
    "    horizontal_distance += horizontal_velocity\n",
    "    \n",
    "    rover_angle = math.degrees(math.atan(horizontal_velocity / vertical_velocity))\n",
    "    deviation_angle = math.degrees(math.atan(horizontal_distance / (mars_radius + vertical_distance)))\n",
    "    \n",
    "    altitude = math.sqrt((horizontal_distance ** 2) + (vertical_distance + mars_radius) ** 2) - mars_radius\n",
    "    velocity = math.sqrt(horizontal_velocity ** 2 + vertical_velocity ** 2)\n",
    "    acceleration = velocity - last_velocity\n",
    "    \n",
    "    velocity_list.append(velocity)\n",
    "    altitude_list.append(altitude)\n",
    "    acceleration_list.append(acceleration)\n",
    "\n",
    "while altitude > 9000:\n",
    "    \n",
    "    frame(35)\n",
    "    \n",
    "while altitude > 3000:\n",
    "    \n",
    "    frame(600)\n",
    "    \n",
    "while altitude > 0:\n",
    "    \n",
    "    frame(600, rocket=True)\n",
    "    \n",
    "    \n",
    "print(\"Final velocity:\", velocity_list[-1])\n",
    "print(\"Max deceleration:\", min(acceleration_list))\n",
    "    \n",
    "    \n",
    "    \n",
    "    \n",
    "\n",
    "\n"
   ]
  },
  {
   "cell_type": "code",
   "execution_count": 251,
   "id": "c9e1f4ce",
   "metadata": {},
   "outputs": [
    {
     "data": {
      "image/png": "[encoded data removed]",
      "text/plain": [
       "<Figure size 432x288 with 1 Axes>"
      ]
     },
     "metadata": {
      "needs_background": "light"
     },
     "output_type": "display_data"
    }
   ],
   "source": [
    "import matplotlib\n",
    "import matplotlib.pyplot as plt\n",
    "import numpy as np\n",
    "\n",
    "X_axis = np.arange(len(altitude_list))\n",
    "Y_axis = altitude_list\n",
    "\n",
    "plt.plot(X_axis, Y_axis)\n",
    "plt.show()"
   ]
  },
  {
   "cell_type": "code",
   "execution_count": 261,
   "id": "20daa02b",
   "metadata": {},
   "outputs": [
    {
     "data": {
      "image/png": "[encoded data removed]",
      "text/plain": [
       "<Figure size 432x288 with 1 Axes>"
      ]
     },
     "metadata": {
      "needs_background": "light"
     },
     "output_type": "display_data"
    }
   ],
   "source": [
    "X_axis = altitude_list\n",
    "Y_axis = velocity_list\n",
    "\n",
    "fig, ax1 = plt.subplots(1)\n",
    "ax1.plot(X_axis, Y_axis)\n",
    "ax1.invert_xaxis()\n",
    "plt.show()"
   ]
  },
  {
   "cell_type": "code",
   "execution_count": 253,
   "id": "8b962fdf",
   "metadata": {
    "scrolled": true
   },
   "outputs": [
    {
     "data": {
      "image/png": "[encoded data removed]",
      "text/plain": [
       "<Figure size 432x288 with 1 Axes>"
      ]
     },
     "metadata": {
      "needs_background": "light"
     },
     "output_type": "display_data"
    }
   ],
   "source": [
    "X_axis = altitude_list\n",
    "Y_axis = acceleration_list\n",
    "\n",
    "plt.plot(X_axis, Y_axis)\n",
    "plt.show()"
   ]
  },
  {
   "cell_type": "code",
   "execution_count": null,
   "id": "8d8743f1",
   "metadata": {},
   "outputs": [],
   "source": []
  },
  {
   "cell_type": "code",
   "execution_count": null,
   "id": "5017ae69",
   "metadata": {},
   "outputs": [],
   "source": []
  }
 ],
 "metadata": {
  "kernelspec": {
   "display_name": "Python 3",
   "language": "python",
   "name": "python3"
  },
  "language_info": {
   "codemirror_mode": {
    "name": "ipython",
    "version": 3
   },
   "file_extension": ".py",
   "mimetype": "text/x-python",
   "name": "python",
   "nbconvert_exporter": "python",
   "pygments_lexer": "ipython3",
   "version": "3.8.1"
  }
 },
 "nbformat": 4,
 "nbformat_minor": 5
}
